{
 "cells": [
  {
   "cell_type": "code",
   "execution_count": 20,
   "metadata": {},
   "outputs": [
    {
     "name": "stdout",
     "output_type": "stream",
     "text": [
      "<class 'int'>\n",
      "<class 'float'>\n",
      "<class 'str'>\n",
      "[10, 10.0, 'blue']\n",
      "<class 'list'>\n",
      "(10, 10.0, 'blue')\n",
      "<class 'tuple'>\n",
      "{'zhang': 95, 'yu': 90}\n",
      "<class 'dict'>\n"
     ]
    },
    {
     "data": {
      "text/plain": [
       "90"
      ]
     },
     "execution_count": 20,
     "metadata": {},
     "output_type": "execute_result"
    }
   ],
   "source": [
    "#基本数据类型\n",
    "i = 10\n",
    "print(type(i))\n",
    "j = 10.0\n",
    "print(type(j))\n",
    "l = \"blue\"\n",
    "print(type(l))\n",
    "# int 整形\n",
    "# float 浮点型\n",
    "# str 字符串\n",
    "z = [i,j,l]\n",
    "y = (i,j,l)\n",
    "print(z)\n",
    "print(type(z))\n",
    "print(y)\n",
    "print(type(y))\n",
    "# list 列表\n",
    "# tuple 元组\n",
    "'''列表和元组的区别\n",
    "list是可变的对象 ，数据变化频繁，读取速度较慢\n",
    "tuple是不可变的对象，数据变化不大，读取速度较快'''\n",
    "q = {'zhang':95,'yu':90}\n",
    "print (q)\n",
    "print(type(q))\n",
    "# doct 字典\n",
    "q['yu']\n",
    "# yu 和 90是key-value的形式，需要一一对应\n",
    "# 当key不存在时会出现报错，故可以用‘yu’in q来判断，或者用get()\n",
    "# 要删除一个Key,用pop(key)"
   ]
  },
  {
   "cell_type": "code",
   "execution_count": 21,
   "metadata": {},
   "outputs": [
    {
     "ename": "SyntaxError",
     "evalue": "invalid syntax (<ipython-input-21-774b4954b99d>, line 4)",
     "output_type": "error",
     "traceback": [
      "\u001b[1;36m  File \u001b[1;32m\"<ipython-input-21-774b4954b99d>\"\u001b[1;36m, line \u001b[1;32m4\u001b[0m\n\u001b[1;33m    do something\u001b[0m\n\u001b[1;37m               ^\u001b[0m\n\u001b[1;31mSyntaxError\u001b[0m\u001b[1;31m:\u001b[0m invalid syntax\n"
     ]
    }
   ],
   "source": [
    "# 逻辑语句\n",
    "# if语句\n",
    "if xxxx:\n",
    "    do something\n",
    "elif xxxx:\n",
    "    do other somthing\n",
    "else:\n",
    "    do the other something\n",
    "# for语句\n",
    "for i in range(10):\n",
    "    print('执行',i+1,'次')\n",
    "# rang(10) 0,1,2,3,4,5,6,7,8,9\n",
    "# range(1,2) 1\n",
    "i = 10\n",
    "j = 10.0\n",
    "l = \"blue\"\n",
    "z = [i,j,l]\n",
    "for a in z:\n",
    "    print(a)"
   ]
  },
  {
   "cell_type": "code",
   "execution_count": 3,
   "metadata": {},
   "outputs": [],
   "source": [
    "#图形实例\n",
    "import turtle\n",
    "'''定义函数'''\n",
    "def draw_rectangle(x,y,width,height):\n",
    "    '''绘制矩形'''\n",
    "    turtle.goto(x,y)\n",
    "#起始位置\n",
    "    turtle.pencolor('red')\n",
    "    turtle.fillcolor('red')\n",
    "#画笔颜色和填充颜色\n",
    "    turtle.begin_fill()\n",
    "    for i in range(2):\n",
    "        turtle.forward(width)\n",
    "        turtle.left(90)\n",
    "        turtle.forward(height)\n",
    "        turtle.left(90)\n",
    "#向前width像素，向左旋转90度...\n",
    "    turtle.end_fill()\n",
    "def draw_star(x,y,radius):\n",
    "    '''绘制五角星'''\n",
    "    turtle.setpos(x,y)\n",
    "    pos1 = turtle.pos()\n",
    "    turtle.circle(-radius, 72)\n",
    "    pos2 = turtle.pos()\n",
    "    turtle.circle(-radius, 72)\n",
    "    pos3 = turtle.pos()\n",
    "    turtle.circle(-radius, 72)\n",
    "    pos4 = turtle.pos()\n",
    "    turtle.circle(-radius, 72)\n",
    "    pos5 = turtle.pos()\n",
    "    turtle.color('yellow', 'yellow')\n",
    "    turtle.begin_fill()\n",
    "    turtle.goto(pos3)\n",
    "    turtle.goto(pos1)\n",
    "    turtle.goto(pos4)\n",
    "    turtle.goto(pos2)\n",
    "    turtle.goto(pos5)\n",
    "    turtle.end_fill()\n",
    "def main():\n",
    "    \"\"\"主程序\"\"\"\n",
    "    #设置画笔速度\n",
    "    turtle.speed(12)\n",
    "    # 抬起笔\n",
    "    turtle.penup()\n",
    "    x, y = -270, -180\n",
    "    # 画国旗主体\n",
    "    width, height = 540, 360\n",
    "    draw_rectangle(x, y, width, height)\n",
    "    # 画大星星\n",
    "    pice = 22\n",
    "    center_x, center_y = x + 5 * pice, y + height - pice * 5\n",
    "    turtle.goto(center_x, center_y)\n",
    "    turtle.left(90)\n",
    "    turtle.forward(pice * 3)\n",
    "    turtle.right(90)\n",
    "    draw_star(turtle.xcor(), turtle.ycor(), pice * 3)\n",
    "    x_poses, y_poses = [10, 12, 12, 10], [2, 4, 7, 9]\n",
    "    # 画小星星\n",
    "    for x_pos, y_pos in zip(x_poses, y_poses):\n",
    "        turtle.goto(x + x_pos * pice, y + height - y_pos * pice)\n",
    "        turtle.left(turtle.towards(center_x, center_y) - turtle.heading())\n",
    "        turtle.forward(pice)\n",
    "        turtle.right(90)\n",
    "        draw_star(turtle.xcor(), turtle.ycor(), pice)\n",
    "    # 隐藏海龟\n",
    "    turtle.ht()\n",
    "    # 显示绘图窗口\n",
    "    turtle.mainloop()\n",
    "main()"
   ]
  },
  {
   "cell_type": "code",
   "execution_count": null,
   "metadata": {},
   "outputs": [],
   "source": []
  }
 ],
 "metadata": {
  "kernelspec": {
   "display_name": "Python 3",
   "language": "python",
   "name": "python3"
  },
  "language_info": {
   "codemirror_mode": {
    "name": "ipython",
    "version": 3
   },
   "file_extension": ".py",
   "mimetype": "text/x-python",
   "name": "python",
   "nbconvert_exporter": "python",
   "pygments_lexer": "ipython3",
   "version": "3.7.4"
  }
 },
 "nbformat": 4,
 "nbformat_minor": 2
}
